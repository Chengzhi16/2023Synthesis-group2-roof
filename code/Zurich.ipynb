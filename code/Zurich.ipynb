{
 "cells": [
  {
   "cell_type": "code",
   "execution_count": 2,
   "metadata": {},
   "outputs": [],
   "source": [
    "from pathlib import Path\n",
    "from copy import deepcopy\n",
    "from cjio import cityjson\n",
    "from shapely.geometry import Polygon\n",
    "import matplotlib.pyplot as plt\n",
    "plt.close('all')\n",
    "import numpy as np\n",
    "from tqdm import tqdm\n",
    "import json"
   ]
  },
  {
   "cell_type": "markdown",
   "metadata": {},
   "source": [
    "#### Define the parameters in the next cell, run the rest"
   ]
  },
  {
   "cell_type": "code",
   "execution_count": 27,
   "metadata": {},
   "outputs": [],
   "source": [
    "size_threshold = 50\n",
    "file_path = \"Zurich.city.json\"\n",
    "cm = cityjson.load(file_path)"
   ]
  },
  {
   "cell_type": "code",
   "execution_count": 28,
   "metadata": {},
   "outputs": [
    {
     "data": {
      "text/plain": [
       "CityJSON version = 1.1\n",
       "EPSG = None\n",
       "bbox = [ 2677116.375 1241839.025 0.000 2689381.984 1254150.950 1044.250 ]\n",
       "Extensions = ['MetadataExtended']\n",
       "=== CityObjects ===\n",
       "|-- Building (52834)\n",
       "    |-- BuildingPart (145865)\n",
       "===================\n",
       "materials = False\n",
       "textures = False"
      ]
     },
     "execution_count": 28,
     "metadata": {},
     "output_type": "execute_result"
    }
   ],
   "source": [
    "cm"
   ]
  },
  {
   "cell_type": "code",
   "execution_count": 4,
   "metadata": {},
   "outputs": [],
   "source": [
    "def compute_footprint_area(co):\n",
    "     \"\"\"Compute the area of the footprint\"\"\"\n",
    "     footprint_area = 0\n",
    "     for geom in co.geometry:\n",
    "        # only LoD2 (or higher) objects have semantic surfaces\n",
    "        if float(geom.lod) >= 2.0:\n",
    "            footprints = geom.get_surfaces(type='groundsurface')\n",
    "\n",
    "# there can be many surfaces with label 'groundsurface'\n",
    "        for i,f in footprints.items():\n",
    "            for multisurface in geom.get_surface_boundaries(f):\n",
    "                for surface in multisurface:\n",
    "\n",
    "                    # cast to Shapely polygon\n",
    "                    shapely_poly = Polygon(surface)\n",
    "                    # print(i,shapely_poly)\n",
    "                    footprint_area += shapely_poly.area\n",
    "     return footprint_area"
   ]
  },
  {
   "cell_type": "code",
   "execution_count": 5,
   "metadata": {},
   "outputs": [
    {
     "name": "stderr",
     "output_type": "stream",
     "text": [
      "100%|██████████| 198699/198699 [00:01<00:00, 154562.26it/s]\n"
     ]
    }
   ],
   "source": [
    "filtered_cm_ids = []\n",
    "cm_copy = deepcopy(cm)\n",
    "buildings_parts = cm_copy.get_cityobjects(type=['building', 'buildingpart'])\n",
    "for buildings_part in tqdm(buildings_parts.values(), total=len(buildings_parts)):\n",
    "    area = compute_footprint_area(buildings_part)\n",
    "    if area > 50:\n",
    "        filtered_cm_ids.append(buildings_part.__dict__['id'])"
   ]
  },
  {
   "cell_type": "code",
   "execution_count": 6,
   "metadata": {},
   "outputs": [
    {
     "data": {
      "text/plain": [
       "44602"
      ]
     },
     "execution_count": 6,
     "metadata": {},
     "output_type": "execute_result"
    }
   ],
   "source": [
    "len(filtered_cm_ids)"
   ]
  },
  {
   "cell_type": "code",
   "execution_count": 22,
   "metadata": {},
   "outputs": [],
   "source": [
    "json_cm = json.load(open(file_path))\n",
    "city_objects_filtered = []\n",
    "new_city_objects = {}\n",
    "for id, attrs in json_cm['CityObjects'].items():\n",
    "    if id not in filtered_cm_ids:\n",
    "        continue\n",
    "    if 'children' in attrs:\n",
    "        new_children = [c for c in attrs['children'] if c not in filtered_cm_ids]\n",
    "        attrs['children'] = new_children\n",
    "    \n",
    "    new_city_objects[id] = attrs\n",
    "json_cm['CityObjects'] = new_city_objects"
   ]
  },
  {
   "cell_type": "code",
   "execution_count": 23,
   "metadata": {},
   "outputs": [],
   "source": [
    "json.dump(json_cm, open('Zurich.city.areaLargerThan50.json', 'w+'))"
   ]
  },
  {
   "cell_type": "code",
   "execution_count": 24,
   "metadata": {},
   "outputs": [
    {
     "data": {
      "text/plain": [
       "CityJSON version = 1.1\n",
       "EPSG = None\n",
       "bbox = [ 2677116.375 1241839.025 0.000 2689381.984 1254150.950 1044.250 ]\n",
       "Extensions = ['MetadataExtended']\n",
       "=== CityObjects ===\n",
       "===================\n",
       "materials = False\n",
       "textures = False"
      ]
     },
     "execution_count": 24,
     "metadata": {},
     "output_type": "execute_result"
    }
   ],
   "source": [
    "lessfile_path = 'Zurich.city.areaLargerThan50.json'\n",
    "lesscm = cityjson.load(lessfile_path)\n",
    "lesscm"
   ]
  },
  {
   "cell_type": "code",
   "execution_count": 32,
   "metadata": {},
   "outputs": [],
   "source": [
    "for co_id, co in lesscm.cityobjects.items():\n",
    "    co.attributes['fp_area'] = compute_footprint_area(co)\n",
    "    lesscm.cityobjects[co_id] = co\n",
    "p_out = 'zurich_output.json'\n",
    "cityjson.save(lesscm, p_out)"
   ]
  }
 ],
 "metadata": {
  "kernelspec": {
   "display_name": "hamster",
   "language": "python",
   "name": "python3"
  },
  "language_info": {
   "codemirror_mode": {
    "name": "ipython",
    "version": 3
   },
   "file_extension": ".py",
   "mimetype": "text/x-python",
   "name": "python",
   "nbconvert_exporter": "python",
   "pygments_lexer": "ipython3",
   "version": "3.8.0"
  }
 },
 "nbformat": 4,
 "nbformat_minor": 2
}
